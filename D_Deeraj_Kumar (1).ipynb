{
  "nbformat": 4,
  "nbformat_minor": 0,
  "metadata": {
    "colab": {
      "name": "D Deeraj Kumar.ipynb",
      "provenance": []
    },
    "kernelspec": {
      "name": "python3",
      "display_name": "Python 3"
    },
    "language_info": {
      "name": "python"
    }
  },
  "cells": [
    {
      "cell_type": "code",
      "metadata": {
        "colab": {
          "base_uri": "https://localhost:8080/"
        },
        "id": "EbA8mLWJMy9m",
        "outputId": "3f8e6e74-fbbc-48d3-857c-bc15e229bddf"
      },
      "source": [
        "  import requests\n",
        "  #import os\n",
        "  from datetime import datetime\n",
        "\n",
        "  api_key = 'e65fce7b7879ba4ed7d7c05e8e3d3d20'\n",
        "  location = input(\"Enter the city name:\")\n",
        "\n",
        "  complete_api_link = \"https://api.openweathermap.org/data/2.5/weather?q=\"+location+\"&appid=\"+api_key\n",
        "  api_link = requests.get(complete_api_link)\n",
        "  api_data = api_link.json()\n",
        "\n",
        "  #create variables to store and display data\n",
        "  temp_city = ((api_data['main']['temp']) - 273.15)\n",
        "  weather_desc = api_data['weather'][0]['description']\n",
        "  hmdt = api_data['main']['humidity']\n",
        "  wind_spd = api_data['wind']['speed']\n",
        "  date_time = datetime.now().strftime(\"%d %b %Y | %I:%M:%S %p\")\n",
        "\n",
        "  print (\"-------------------------------------------------------------\")\n",
        "  print (\"Weather Stats for - {}  || {}\".format(location.upper(), date_time))\n",
        "  print (\"-------------------------------------------------------------\")\n",
        "\n",
        "  print (\"Current temperature is: {:.2f} deg C\".format(temp_city))\n",
        "  print (\"Current weather desc  :\",weather_desc)\n",
        "  print (\"Current Humidity      :\",hmdt, '%')\n",
        "  print (\"Current wind speed    :\",wind_spd ,'kmph')"
      ],
      "execution_count": 5,
      "outputs": [
        {
          "output_type": "stream",
          "text": [
            "Enter the city name: Hyderabad\n",
            "-------------------------------------------------------------\n",
            "Weather Stats for -  HYDERABAD  || 22 Jun 2021 | 10:13:09 AM\n",
            "-------------------------------------------------------------\n",
            "Current temperature is: 31.26 deg C\n",
            "Current weather desc  : haze\n",
            "Current Humidity      : 50 %\n",
            "Current wind speed    : 3.6 kmph\n"
          ],
          "name": "stdout"
        }
      ]
    },
    {
      "cell_type": "markdown",
      "metadata": {
        "id": "t0iGkYW9RC50"
      },
      "source": [
        "import requests\n",
        "#import os\n",
        "from datetime import datetime\n",
        "\n",
        "api_key = 'e65fce7b7879ba4ed7d7c05e8e3d3d20'\n",
        "location = input(\"Enter the city name:\")\n",
        "\n",
        "complete_api_link = \"https://api.openweathermap.org/data/2.5/weather?q=\"+location+\"&appid=\"+api_key\n",
        "api_link = requests.get(complete_api_link)\n",
        "api_data = api_link.json()\n",
        "\n",
        "#create variables to store and display data\n",
        "temp_city = ((api_data['main']['temp']) - 273.15)\n",
        "weather_desc = api_data['weather'][0]['description']\n",
        "hmdt = api_data['main']['humidity']\n",
        "wind_spd = api_data['wind']['speed']\n",
        "date_time = datetime.now().strftime(\"%d %b %Y | %I:%M:%S %p\")\n",
        "\n",
        "print (\"-------------------------------------------------------------\")\n",
        "print (\"Weather Stats for - {}  || {}\".format(location.upper(), date_time))\n",
        "print (\"-------------------------------------------------------------\")\n",
        "\n",
        "print (\"Current temperature is: {:.2f} deg C\".format(temp_city))\n",
        "print (\"Current weather desc  :\",weather_desc)\n",
        "print (\"Current Humidity      :\",hmdt, '%')\n",
        "print (\"Current wind speed    :\",wind_spd ,'kmph')"
      ]
    }
  ]
}